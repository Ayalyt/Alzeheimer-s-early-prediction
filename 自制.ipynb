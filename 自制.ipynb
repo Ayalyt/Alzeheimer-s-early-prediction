{
 "cells": [
  {
   "cell_type": "markdown",
   "metadata": {},
   "source": [
    "随机森林"
   ]
  },
  {
   "cell_type": "code",
   "execution_count": 11,
   "metadata": {},
   "outputs": [],
   "source": [
    "from sklearn.tree import DecisionTreeClassifier\n",
    "from sklearn.ensemble import RandomForestClassifier\n",
    "\n",
    "from sklearn.metrics import accuracy_score\n",
    "import matplotlib.pyplot as plt\n",
    "import numpy\n",
    "import pandas \n",
    "import scipy \n",
    "import seaborn \n",
    "import sklearn.metrics\n",
    "import warnings"
   ]
  },
  {
   "cell_type": "code",
   "execution_count": 12,
   "metadata": {},
   "outputs": [
    {
     "data": {
      "text/html": [
       "<div>\n",
       "<style scoped>\n",
       "    .dataframe tbody tr th:only-of-type {\n",
       "        vertical-align: middle;\n",
       "    }\n",
       "\n",
       "    .dataframe tbody tr th {\n",
       "        vertical-align: top;\n",
       "    }\n",
       "\n",
       "    .dataframe thead th {\n",
       "        text-align: right;\n",
       "    }\n",
       "</style>\n",
       "<table border=\"1\" class=\"dataframe\">\n",
       "  <thead>\n",
       "    <tr style=\"text-align: right;\">\n",
       "      <th></th>\n",
       "      <th>ldeltotal</th>\n",
       "      <th>mpaccdigit</th>\n",
       "      <th>faq</th>\n",
       "      <th>mmse</th>\n",
       "      <th>adas13</th>\n",
       "      <th>pteducat</th>\n",
       "      <th>age</th>\n",
       "      <th>adas11</th>\n",
       "      <th>ravlt_immediate</th>\n",
       "      <th>ravlt_perc_forgetting</th>\n",
       "      <th>adasq4</th>\n",
       "      <th>ravlt_learning</th>\n",
       "      <th>ravlt_forgetting</th>\n",
       "      <th>dx_id</th>\n",
       "    </tr>\n",
       "  </thead>\n",
       "  <tbody>\n",
       "    <tr>\n",
       "      <th>0</th>\n",
       "      <td>10</td>\n",
       "      <td>-4.316700</td>\n",
       "      <td>0</td>\n",
       "      <td>28</td>\n",
       "      <td>18.67</td>\n",
       "      <td>16</td>\n",
       "      <td>74.300003</td>\n",
       "      <td>10.67</td>\n",
       "      <td>44</td>\n",
       "      <td>54.545502</td>\n",
       "      <td>5</td>\n",
       "      <td>4</td>\n",
       "      <td>6</td>\n",
       "      <td>0</td>\n",
       "    </tr>\n",
       "    <tr>\n",
       "      <th>1</th>\n",
       "      <td>2</td>\n",
       "      <td>-16.290501</td>\n",
       "      <td>10</td>\n",
       "      <td>20</td>\n",
       "      <td>31.00</td>\n",
       "      <td>18</td>\n",
       "      <td>81.300003</td>\n",
       "      <td>22.00</td>\n",
       "      <td>22</td>\n",
       "      <td>100.000000</td>\n",
       "      <td>8</td>\n",
       "      <td>1</td>\n",
       "      <td>4</td>\n",
       "      <td>4</td>\n",
       "    </tr>\n",
       "    <tr>\n",
       "      <th>2</th>\n",
       "      <td>4</td>\n",
       "      <td>-8.433050</td>\n",
       "      <td>0</td>\n",
       "      <td>27</td>\n",
       "      <td>21.33</td>\n",
       "      <td>10</td>\n",
       "      <td>67.500000</td>\n",
       "      <td>14.33</td>\n",
       "      <td>37</td>\n",
       "      <td>36.363602</td>\n",
       "      <td>6</td>\n",
       "      <td>7</td>\n",
       "      <td>4</td>\n",
       "      <td>3</td>\n",
       "    </tr>\n",
       "    <tr>\n",
       "      <th>3</th>\n",
       "      <td>12</td>\n",
       "      <td>-1.890180</td>\n",
       "      <td>0</td>\n",
       "      <td>29</td>\n",
       "      <td>14.67</td>\n",
       "      <td>16</td>\n",
       "      <td>73.699997</td>\n",
       "      <td>8.67</td>\n",
       "      <td>37</td>\n",
       "      <td>44.444401</td>\n",
       "      <td>4</td>\n",
       "      <td>4</td>\n",
       "      <td>4</td>\n",
       "      <td>0</td>\n",
       "    </tr>\n",
       "    <tr>\n",
       "      <th>4</th>\n",
       "      <td>3</td>\n",
       "      <td>-10.163000</td>\n",
       "      <td>0</td>\n",
       "      <td>25</td>\n",
       "      <td>25.67</td>\n",
       "      <td>13</td>\n",
       "      <td>80.400002</td>\n",
       "      <td>18.67</td>\n",
       "      <td>30</td>\n",
       "      <td>83.333298</td>\n",
       "      <td>7</td>\n",
       "      <td>1</td>\n",
       "      <td>5</td>\n",
       "      <td>3</td>\n",
       "    </tr>\n",
       "  </tbody>\n",
       "</table>\n",
       "</div>"
      ],
      "text/plain": [
       "   ldeltotal  mpaccdigit  faq  mmse  adas13  pteducat        age  adas11  \\\n",
       "0         10   -4.316700    0    28   18.67        16  74.300003   10.67   \n",
       "1          2  -16.290501   10    20   31.00        18  81.300003   22.00   \n",
       "2          4   -8.433050    0    27   21.33        10  67.500000   14.33   \n",
       "3         12   -1.890180    0    29   14.67        16  73.699997    8.67   \n",
       "4          3  -10.163000    0    25   25.67        13  80.400002   18.67   \n",
       "\n",
       "   ravlt_immediate  ravlt_perc_forgetting  adasq4  ravlt_learning  \\\n",
       "0               44              54.545502       5               4   \n",
       "1               22             100.000000       8               1   \n",
       "2               37              36.363602       6               7   \n",
       "3               37              44.444401       4               4   \n",
       "4               30              83.333298       7               1   \n",
       "\n",
       "   ravlt_forgetting  dx_id  \n",
       "0                 6      0  \n",
       "1                 4      4  \n",
       "2                 4      3  \n",
       "3                 4      0  \n",
       "4                 5      3  "
      ]
     },
     "execution_count": 12,
     "metadata": {},
     "output_type": "execute_result"
    }
   ],
   "source": [
    "data = pandas.read_excel('第二问数据.xlsx')\n",
    "data = data.drop('Unnamed: 0',axis=1)\n",
    "data.head()"
   ]
  },
  {
   "cell_type": "code",
   "execution_count": 13,
   "metadata": {},
   "outputs": [],
   "source": [
    "X = data.drop('dx_id',axis=1)\n",
    "Y = data['dx_id']\n",
    "from sklearn.model_selection import train_test_split\n",
    "Xtrain,Xtest,Ytrain,Ytest = train_test_split(X, \n",
    "                                            Y,\n",
    "                                            test_size=0.5,\n",
    "                                            random_state=0)"
   ]
  },
  {
   "cell_type": "code",
   "execution_count": 64,
   "metadata": {},
   "outputs": [
    {
     "name": "stdout",
     "output_type": "stream",
     "text": [
      "Classification Report:\n",
      "              precision    recall  f1-score   support\n",
      "\n",
      "           0       0.60      0.71      0.65       256\n",
      "           1       0.44      0.22      0.29       174\n",
      "           2       0.68      0.77      0.72       206\n",
      "           3       0.87      0.93      0.90       357\n",
      "           4       0.88      0.83      0.86       220\n",
      "\n",
      "   micro avg       0.74      0.74      0.74      1213\n",
      "   macro avg       0.69      0.69      0.68      1213\n",
      "weighted avg       0.72      0.74      0.72      1213\n",
      "\n",
      "Accuracy: 0.7361912613355317\n"
     ]
    }
   ],
   "source": [
    "from sklearn.ensemble import RandomForestClassifier\n",
    "rfc = RandomForestClassifier(\n",
    "            max_depth=7, max_features=7, \n",
    "            n_estimators=48,\n",
    "            min_samples_leaf=1,\n",
    "            oob_score=False,\n",
    "           )\n",
    "rfc.fit(Xtrain, Ytrain)\n",
    "Ypred = rfc.predict(Xtest)\n",
    "from sklearn.metrics import classification_report\n",
    "result1 = classification_report(Ytest, Ypred)\n",
    "print(\"Classification Report:\",)\n",
    "print (result1)\n",
    "result2 = accuracy_score(Ytest,Ypred)\n",
    "print(\"Accuracy:\",result2)"
   ]
  },
  {
   "cell_type": "code",
   "execution_count": 15,
   "metadata": {},
   "outputs": [
    {
     "name": "stdout",
     "output_type": "stream",
     "text": [
      "RandomForestClassifier(bootstrap=True, class_weight=None, criterion='entropy',\n",
      "            max_depth=7, max_features=7, max_leaf_nodes=None,\n",
      "            min_impurity_decrease=0.0, min_impurity_split=None,\n",
      "            min_samples_leaf=9, min_samples_split=5,\n",
      "            min_weight_fraction_leaf=0.0, n_estimators=53, n_jobs=None,\n",
      "            oob_score=False, random_state=42, verbose=0, warm_start=False)\n",
      "0.7079207920792079\n"
     ]
    }
   ],
   "source": [
    "#交叉验证\n",
    "from sklearn.model_selection import cross_val_score\n",
    "from sklearn.model_selection import RandomizedSearchCV\n",
    "from sklearn.model_selection import KFold\n",
    "import numpy as np\n",
    "param_dist = {\n",
    "        'n_estimators':range(50,60),\n",
    "        'max_depth':range(1,12),\n",
    "        'max_features':np.arange(1,8),\n",
    "        'min_samples_leaf':np.arange(1,12),\n",
    "        'min_samples_split':np.arange(2, 2+20, 1),\n",
    "        'criterion':['gini', 'entropy']\n",
    "        }\n",
    "cvv = KFold(5)\n",
    "grid = RandomizedSearchCV(rfc,param_dist,cv = cvv,n_iter=100,refit=\"roc_auc\",n_jobs = -1)\n",
    "  \n",
    "#在训练集上训练\n",
    "grid.fit(Xtrain,Ytrain)\n",
    "#返回最优的训练器\n",
    "best_estimator = grid.best_estimator_\n",
    "print(best_estimator)\n",
    "#输出最优训练器的精度\n",
    "print(grid.best_score_)"
   ]
  },
  {
   "cell_type": "code",
   "execution_count": 56,
   "metadata": {},
   "outputs": [
    {
     "name": "stdout",
     "output_type": "stream",
     "text": [
      "{'max_depth': 4, 'max_features': 11, 'n_estimators': 48} 0.7220175234533823\n"
     ]
    }
   ],
   "source": [
    "#最佳生成数量：网格法搜索超参\n",
    "from sklearn.model_selection import GridSearchCV\n",
    "def random_forest_predict(Xtrain, Ytrain, Xtest, Ytest):\n",
    "    param = {'n_estimators':range(45,55), 'max_depth':range(2,8),'max_features':numpy.arange(5,14)}#在一定范围内设置遍历集\n",
    "    gsearch = GridSearchCV(estimator=RandomForestClassifier(min_samples_leaf=1,\n",
    "                                                            oob_score=False,\n",
    "                                                            random_state=42),\n",
    "                            param_grid=param, \n",
    "                            iid=False, cv=10, n_jobs=-1)\n",
    "    gsearch.fit(Xtrain, Ytrain)\n",
    "    print(gsearch.best_params_, gsearch.best_score_)\n",
    "random_forest_predict(Xtrain, Ytrain, Xtest, Ytest)\n",
    "#设置K折：2、5、10、264后"
   ]
  },
  {
   "cell_type": "markdown",
   "metadata": {},
   "source": [
    "Xgboost"
   ]
  },
  {
   "cell_type": "code",
   "execution_count": 72,
   "metadata": {},
   "outputs": [
    {
     "data": {
      "text/plain": [
       "XGBClassifier(base_score=0.5, booster='gbtree', callbacks=None,\n",
       "       colsample_bylevel=1, colsample_bynode=1,\n",
       "       colsample_bytree=0.8733333333333333, early_stopping_rounds=None,\n",
       "       enable_categorical=False, eval_metric=None, gamma=0, gpu_id=-1,\n",
       "       grow_policy='depthwise', importance_type=None,\n",
       "       interaction_constraints='', learning_rate=0.01, max_bin=256,\n",
       "       max_cat_to_onehot=4, max_delta_step=0, max_depth=4, max_leaves=0,\n",
       "       min_child_weight=2, missing=nan, monotone_constraints='()',\n",
       "       n_estimators=116, n_jobs=0, num_parallel_tree=1,\n",
       "       objective='multi:softprob', predictor='auto', random_state=0,\n",
       "       reg_alpha=0, reg_lambda=1, sampling_method='uniform',\n",
       "       scale_pos_weight=None, subsample=0.731578947368421,\n",
       "       tree_method='exact', use_label_encoder=False, validate_parameters=1,\n",
       "       verbosity=None)"
      ]
     },
     "execution_count": 72,
     "metadata": {},
     "output_type": "execute_result"
    }
   ],
   "source": [
    "import xgboost as xgb\n",
    "from sklearn.model_selection import RandomizedSearchCV\n",
    "\n",
    "#分类器使用 xgboost\n",
    "from xgboost import XGBClassifier\n",
    "model = XGBClassifier(base_score=0.5, booster='gbtree', callbacks=None,\n",
    "       colsample_bylevel=1, colsample_bynode=1,\n",
    "       colsample_bytree=0.8733333333333333, early_stopping_rounds=None,\n",
    "       enable_categorical=False, eval_metric=None, gamma=0, gpu_id=-1,\n",
    "       grow_policy='depthwise', importance_type=None,\n",
    "       interaction_constraints='', learning_rate=0.01, max_bin=256,\n",
    "       max_cat_to_onehot=4, max_delta_step=0, max_depth=4, max_leaves=0,\n",
    "       min_child_weight=2, monotone_constraints='()',\n",
    "       n_estimators=116, n_jobs=0, num_parallel_tree=1,\n",
    "       objective='multi:softprob', predictor='auto', random_state=0,\n",
    "       reg_alpha=0, reg_lambda=1, sampling_method='uniform',\n",
    "       scale_pos_weight=None, subsample=0.731578947368421,\n",
    "       tree_method='exact', use_label_encoder=False, validate_parameters=1,\n",
    "       verbosity=None)\n",
    "model.fit(Xtrain, Ytrain)"
   ]
  },
  {
   "cell_type": "code",
   "execution_count": 73,
   "metadata": {},
   "outputs": [],
   "source": [
    "y_pred2 = model.predict(Xtest)"
   ]
  },
  {
   "cell_type": "code",
   "execution_count": 74,
   "metadata": {
    "scrolled": true
   },
   "outputs": [
    {
     "name": "stdout",
     "output_type": "stream",
     "text": [
      "XGBClassifier(base_score=0.5, booster='gbtree', callbacks=None,\n",
      "       colsample_bylevel=1, colsample_bynode=1,\n",
      "       colsample_bytree=0.6599999999999999, early_stopping_rounds=None,\n",
      "       enable_categorical=False, eval_metric=None, gamma=0, gpu_id=-1,\n",
      "       grow_policy='depthwise', importance_type=None,\n",
      "       interaction_constraints='', learning_rate=0.11473684210526315,\n",
      "       max_bin=256, max_cat_to_onehot=4, max_delta_step=0, max_depth=2,\n",
      "       max_leaves=0, min_child_weight=7, missing=nan,\n",
      "       monotone_constraints='()', n_estimators=84, n_jobs=0,\n",
      "       num_parallel_tree=1, objective='multi:softprob', predictor='auto',\n",
      "       random_state=0, reg_alpha=0, reg_lambda=1,\n",
      "       sampling_method='uniform', scale_pos_weight=None,\n",
      "       subsample=0.8263157894736842, tree_method='exact',\n",
      "       use_label_encoder=False, validate_parameters=1, verbosity=None)\n",
      "0.7054455445544554\n"
     ]
    },
    {
     "name": "stderr",
     "output_type": "stream",
     "text": [
      "C:\\Users\\Kal\\Anaconda3\\lib\\site-packages\\sklearn\\model_selection\\_search.py:841: DeprecationWarning: The default of the `iid` parameter will change from True to False in version 0.22 and will be removed in 0.24. This will change numeric results when test-set sizes are unequal.\n",
      "  DeprecationWarning)\n"
     ]
    }
   ],
   "source": [
    "from sklearn.model_selection import KFold # k折交叉验证，默认5\n",
    "import numpy as np\n",
    "param_dist = {\n",
    "        'n_estimators':range(80,200,4),\n",
    "        'max_depth':range(2,15,1),\n",
    "        'learning_rate':np.linspace(0.01,2,20),\n",
    "        'subsample':np.linspace(0.7,0.9,20),\n",
    "        'colsample_bytree':np.linspace(0.5,0.98,10),\n",
    "        'min_child_weight':range(1,9,1)\n",
    "        }\n",
    "\n",
    "cvv = KFold(5)\n",
    "grid = RandomizedSearchCV(model,param_dist,cv = cvv,n_iter=100,refit=\"roc_auc\",n_jobs = -1)\n",
    "  \n",
    "#在训练集上训练\n",
    "grid.fit(Xtrain,Ytrain)\n",
    "#返回最优的训练器\n",
    "best_estimator = grid.best_estimator_\n",
    "print(best_estimator)\n",
    "#输出最优训练器的精度\n",
    "print(grid.best_score_)"
   ]
  },
  {
   "cell_type": "code",
   "execution_count": 75,
   "metadata": {},
   "outputs": [
    {
     "name": "stdout",
     "output_type": "stream",
     "text": [
      "Classification Report:\n",
      "              precision    recall  f1-score   support\n",
      "\n",
      "           0       0.58      0.73      0.65       256\n",
      "           1       0.42      0.16      0.23       174\n",
      "           2       0.70      0.81      0.75       206\n",
      "           3       0.86      0.91      0.88       357\n",
      "           4       0.86      0.82      0.84       220\n",
      "\n",
      "   micro avg       0.73      0.73      0.73      1213\n",
      "   macro avg       0.68      0.69      0.67      1213\n",
      "weighted avg       0.71      0.73      0.71      1213\n",
      "\n",
      "Accuracy: 0.731244847485573\n"
     ]
    }
   ],
   "source": [
    "from sklearn.metrics import classification_report\n",
    "from sklearn.metrics import accuracy_score\n",
    "res = classification_report(Ytest, y_pred2)\n",
    "print(\"Classification Report:\",)\n",
    "print (res)\n",
    "res2 = accuracy_score(Ytest,y_pred2)\n",
    "print(\"Accuracy:\",res2)"
   ]
  },
  {
   "cell_type": "code",
   "execution_count": null,
   "metadata": {},
   "outputs": [],
   "source": []
  }
 ],
 "metadata": {
  "kernelspec": {
   "display_name": "Python 3",
   "language": "python",
   "name": "python3"
  },
  "language_info": {
   "codemirror_mode": {
    "name": "ipython",
    "version": 3
   },
   "file_extension": ".py",
   "mimetype": "text/x-python",
   "name": "python",
   "nbconvert_exporter": "python",
   "pygments_lexer": "ipython3",
   "version": "3.7.3"
  }
 },
 "nbformat": 4,
 "nbformat_minor": 2
}
